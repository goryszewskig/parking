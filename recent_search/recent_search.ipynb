{
 "cells": [
  {
   "cell_type": "code",
   "execution_count": 90,
   "metadata": {},
   "outputs": [],
   "source": [
    "import datetime\n",
    "import pandas as pd\n",
    "import yaml\n",
    "import json\n",
    "import requests\n",
    "\n",
    "from twilio_connect_demo import twilio_connect, send_message"
   ]
  },
  {
   "cell_type": "code",
   "execution_count": 91,
   "metadata": {},
   "outputs": [
    {
     "name": "stdout",
     "output_type": "stream",
     "text": [
      "https://api.twitter.com/labs/2/tweets/search?query=from:NYCASP\n"
     ]
    }
   ],
   "source": [
    "handle = \"NYCASP\"\n",
    "url = \"https://api.twitter.com/labs/2/tweets/search?query=from:{}\".format(handle)\n",
    "print(url)"
   ]
  },
  {
   "cell_type": "code",
   "execution_count": 92,
   "metadata": {},
   "outputs": [],
   "source": [
    "with open(\"secret_demo.yaml\") as file:\n",
    "    data = yaml.safe_load(file)"
   ]
  },
  {
   "cell_type": "code",
   "execution_count": 93,
   "metadata": {},
   "outputs": [],
   "source": [
    "bearer_token = data[\"search_tweets_api\"][\"bearer_token\"]"
   ]
  },
  {
   "cell_type": "code",
   "execution_count": 94,
   "metadata": {},
   "outputs": [],
   "source": [
    "headers = {\n",
    "  'Authorization': 'Bearer {}'.format(bearer_token)\n",
    "}"
   ]
  },
  {
   "cell_type": "code",
   "execution_count": 95,
   "metadata": {},
   "outputs": [],
   "source": [
    "response = requests.request(\"GET\", url, headers=headers)"
   ]
  },
  {
   "cell_type": "code",
   "execution_count": 99,
   "metadata": {},
   "outputs": [
    {
     "name": "stdout",
     "output_type": "stream",
     "text": [
      "{\"data\":[{\"id\":\"1233731184259207170\",\"text\":\"#NYCASP rules are in effect today, February 29.\"},{\"id\":\"1233497458501672961\",\"text\":\"#NYCASP rules will be in effect tomorrow, Saturday, February 29.\"},{\"id\":\"1233368874374062080\",\"text\":\"#NYCASP rules are in effect today, February 28.\"},{\"id\":\"1233135060787892224\",\"text\":\"#NYCASP rules will be in effect tomorrow, Friday, February 28.\"},{\"id\":\"1233006457165111297\",\"text\":\"#NYCASP rules are in effect today, February 27.\"},{\"id\":\"1232772686037897218\",\"text\":\"#NYCASP rules will be in effect tomorrow, Thursday, February 27.\"},{\"id\":\"1232644078489210880\",\"text\":\"#NYCASP rules are suspended today, February 26 for Ash Wednesday. Parking meters are in effect.\"},{\"id\":\"1232410281323778049\",\"text\":\"#NYCASP rules will be suspended tomorrow, Wednesday, February 26 for Ash Wednesday. Parking meters will remain in effect.\"},{\"id\":\"1232281668817428486\",\"text\":\"#NYCASP rules are in effect today, February 25.\"},{\"id\":\"1232047844305047552\",\"text\":\"#NYCASP rules will be in effect tomorrow, Tuesday, February 25.\"}],\"meta\":{\"newest_id\":\"1233731184259207170\",\"oldest_id\":\"1232047844305047552\",\"next_token\":\"b26v89c19zqg8o3fo74ef82m8wxd6xrbgtq0r2mmab5h9\",\"result_count\":10}}\n"
     ]
    }
   ],
   "source": [
    "print(response.text)"
   ]
  },
  {
   "cell_type": "code",
   "execution_count": 100,
   "metadata": {},
   "outputs": [],
   "source": [
    "if response.encoding is None:\n",
    "    response.encoding = \"utf-8\"\n",
    "for d in response.iter_lines(decode_unicode=True):\n",
    "    if d:\n",
    "        jdata = json.loads(d)"
   ]
  },
  {
   "cell_type": "code",
   "execution_count": 98,
   "metadata": {},
   "outputs": [
    {
     "name": "stdout",
     "output_type": "stream",
     "text": [
      "{'data': [{'id': '1233731184259207170', 'text': '#NYCASP rules are in effect today, February 29.'}, {'id': '1233497458501672961', 'text': '#NYCASP rules will be in effect tomorrow, Saturday, February 29.'}, {'id': '1233368874374062080', 'text': '#NYCASP rules are in effect today, February 28.'}, {'id': '1233135060787892224', 'text': '#NYCASP rules will be in effect tomorrow, Friday, February 28.'}, {'id': '1233006457165111297', 'text': '#NYCASP rules are in effect today, February 27.'}, {'id': '1232772686037897218', 'text': '#NYCASP rules will be in effect tomorrow, Thursday, February 27.'}, {'id': '1232644078489210880', 'text': '#NYCASP rules are suspended today, February 26 for Ash Wednesday. Parking meters are in effect.'}, {'id': '1232410281323778049', 'text': '#NYCASP rules will be suspended tomorrow, Wednesday, February 26 for Ash Wednesday. Parking meters will remain in effect.'}, {'id': '1232281668817428486', 'text': '#NYCASP rules are in effect today, February 25.'}, {'id': '1232047844305047552', 'text': '#NYCASP rules will be in effect tomorrow, Tuesday, February 25.'}], 'meta': {'newest_id': '1233731184259207170', 'oldest_id': '1232047844305047552', 'next_token': 'b26v89c19zqg8o3fo74ef82m8wxd6xrbgtq0r2mmab5h9', 'result_count': 10}}\n"
     ]
    }
   ],
   "source": [
    "print(jdata)"
   ]
  },
  {
   "cell_type": "code",
   "execution_count": 83,
   "metadata": {},
   "outputs": [
    {
     "name": "stdout",
     "output_type": "stream",
     "text": [
      "[{'id': '1233731184259207170', 'text': '#NYCASP rules are in effect today, February 29.'}, {'id': '1233497458501672961', 'text': '#NYCASP rules will be in effect tomorrow, Saturday, February 29.'}, {'id': '1233368874374062080', 'text': '#NYCASP rules are in effect today, February 28.'}, {'id': '1233135060787892224', 'text': '#NYCASP rules will be in effect tomorrow, Friday, February 28.'}, {'id': '1233006457165111297', 'text': '#NYCASP rules are in effect today, February 27.'}, {'id': '1232772686037897218', 'text': '#NYCASP rules will be in effect tomorrow, Thursday, February 27.'}, {'id': '1232644078489210880', 'text': '#NYCASP rules are suspended today, February 26 for Ash Wednesday. Parking meters are in effect.'}, {'id': '1232410281323778049', 'text': '#NYCASP rules will be suspended tomorrow, Wednesday, February 26 for Ash Wednesday. Parking meters will remain in effect.'}, {'id': '1232281668817428486', 'text': '#NYCASP rules are in effect today, February 25.'}, {'id': '1232047844305047552', 'text': '#NYCASP rules will be in effect tomorrow, Tuesday, February 25.'}]\n"
     ]
    }
   ],
   "source": [
    "data_jd = jdata[\"data\"]\n",
    "print(data_jd)"
   ]
  },
  {
   "cell_type": "code",
   "execution_count": 101,
   "metadata": {},
   "outputs": [],
   "source": [
    "df = pd.DataFrame(data_jd)"
   ]
  },
  {
   "cell_type": "code",
   "execution_count": 102,
   "metadata": {},
   "outputs": [
    {
     "data": {
      "text/html": [
       "<div>\n",
       "<style scoped>\n",
       "    .dataframe tbody tr th:only-of-type {\n",
       "        vertical-align: middle;\n",
       "    }\n",
       "\n",
       "    .dataframe tbody tr th {\n",
       "        vertical-align: top;\n",
       "    }\n",
       "\n",
       "    .dataframe thead th {\n",
       "        text-align: right;\n",
       "    }\n",
       "</style>\n",
       "<table border=\"1\" class=\"dataframe\">\n",
       "  <thead>\n",
       "    <tr style=\"text-align: right;\">\n",
       "      <th></th>\n",
       "      <th>id</th>\n",
       "      <th>text</th>\n",
       "    </tr>\n",
       "  </thead>\n",
       "  <tbody>\n",
       "    <tr>\n",
       "      <th>0</th>\n",
       "      <td>1233731184259207170</td>\n",
       "      <td>#NYCASP rules are in effect today, February 29.</td>\n",
       "    </tr>\n",
       "    <tr>\n",
       "      <th>1</th>\n",
       "      <td>1233497458501672961</td>\n",
       "      <td>#NYCASP rules will be in effect tomorrow, Satu...</td>\n",
       "    </tr>\n",
       "    <tr>\n",
       "      <th>2</th>\n",
       "      <td>1233368874374062080</td>\n",
       "      <td>#NYCASP rules are in effect today, February 28.</td>\n",
       "    </tr>\n",
       "    <tr>\n",
       "      <th>3</th>\n",
       "      <td>1233135060787892224</td>\n",
       "      <td>#NYCASP rules will be in effect tomorrow, Frid...</td>\n",
       "    </tr>\n",
       "    <tr>\n",
       "      <th>4</th>\n",
       "      <td>1233006457165111297</td>\n",
       "      <td>#NYCASP rules are in effect today, February 27.</td>\n",
       "    </tr>\n",
       "    <tr>\n",
       "      <th>5</th>\n",
       "      <td>1232772686037897218</td>\n",
       "      <td>#NYCASP rules will be in effect tomorrow, Thur...</td>\n",
       "    </tr>\n",
       "    <tr>\n",
       "      <th>6</th>\n",
       "      <td>1232644078489210880</td>\n",
       "      <td>#NYCASP rules are suspended today, February 26...</td>\n",
       "    </tr>\n",
       "    <tr>\n",
       "      <th>7</th>\n",
       "      <td>1232410281323778049</td>\n",
       "      <td>#NYCASP rules will be suspended tomorrow, Wedn...</td>\n",
       "    </tr>\n",
       "    <tr>\n",
       "      <th>8</th>\n",
       "      <td>1232281668817428486</td>\n",
       "      <td>#NYCASP rules are in effect today, February 25.</td>\n",
       "    </tr>\n",
       "    <tr>\n",
       "      <th>9</th>\n",
       "      <td>1232047844305047552</td>\n",
       "      <td>#NYCASP rules will be in effect tomorrow, Tues...</td>\n",
       "    </tr>\n",
       "  </tbody>\n",
       "</table>\n",
       "</div>"
      ],
      "text/plain": [
       "                    id                                               text\n",
       "0  1233731184259207170    #NYCASP rules are in effect today, February 29.\n",
       "1  1233497458501672961  #NYCASP rules will be in effect tomorrow, Satu...\n",
       "2  1233368874374062080    #NYCASP rules are in effect today, February 28.\n",
       "3  1233135060787892224  #NYCASP rules will be in effect tomorrow, Frid...\n",
       "4  1233006457165111297    #NYCASP rules are in effect today, February 27.\n",
       "5  1232772686037897218  #NYCASP rules will be in effect tomorrow, Thur...\n",
       "6  1232644078489210880  #NYCASP rules are suspended today, February 26...\n",
       "7  1232410281323778049  #NYCASP rules will be suspended tomorrow, Wedn...\n",
       "8  1232281668817428486    #NYCASP rules are in effect today, February 25.\n",
       "9  1232047844305047552  #NYCASP rules will be in effect tomorrow, Tues..."
      ]
     },
     "execution_count": 102,
     "metadata": {},
     "output_type": "execute_result"
    }
   ],
   "source": [
    "df"
   ]
  },
  {
   "cell_type": "code",
   "execution_count": 103,
   "metadata": {},
   "outputs": [],
   "source": [
    "client = twilio_connect()"
   ]
  },
  {
   "cell_type": "code",
   "execution_count": 104,
   "metadata": {},
   "outputs": [
    {
     "name": "stdout",
     "output_type": "stream",
     "text": [
      "not today, friend\n"
     ]
    }
   ],
   "source": [
    "if \"suspended\" in df[\"text\"].values[0]:\n",
    "    if \"tomorrow\" in df[\"text\"].values[0]:\n",
    "        send_message(client=client)\n",
    "        print(\"text sent\")\n",
    "    else:\n",
    "        print(\"not today, friend\")\n",
    "else:\n",
    "    print(\"not today, friend\")"
   ]
  },
  {
   "cell_type": "code",
   "execution_count": null,
   "metadata": {},
   "outputs": [],
   "source": []
  }
 ],
 "metadata": {
  "kernelspec": {
   "display_name": "Python 3",
   "language": "python",
   "name": "python3"
  },
  "language_info": {
   "codemirror_mode": {
    "name": "ipython",
    "version": 3
   },
   "file_extension": ".py",
   "mimetype": "text/x-python",
   "name": "python",
   "nbconvert_exporter": "python",
   "pygments_lexer": "ipython3",
   "version": "3.7.3"
  }
 },
 "nbformat": 4,
 "nbformat_minor": 4
}
